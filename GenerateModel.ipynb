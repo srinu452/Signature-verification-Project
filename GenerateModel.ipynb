{
 "cells": [
  {
   "cell_type": "markdown",
   "metadata": {
    "id": "iZUYkHoWHIQK"
   },
   "source": [
    "### Importing the necessary libraries"
   ]
  },
  {
   "cell_type": "code",
   "execution_count": 1,
   "metadata": {
    "id": "L4P-ZHDcovm0"
   },
   "outputs": [
    {
     "ename": "ImportError",
     "evalue": "Traceback (most recent call last):\n  File \"C:\\Users\\HARI PRASAD\\PycharmProjects\\SignatureForgery\\venv\\lib\\site-packages\\tensorflow\\python\\pywrap_tensorflow.py\", line 70, in <module>\n    from tensorflow.python._pywrap_tensorflow_internal import *\nImportError: DLL load failed while importing _pywrap_tensorflow_internal: A dynamic link library (DLL) initialization routine failed.\n\n\nFailed to load the native TensorFlow runtime.\nSee https://www.tensorflow.org/install/errors for some common causes and solutions.\nIf you need help, create an issue at https://github.com/tensorflow/tensorflow/issues and include the entire stack trace above this error message.",
     "output_type": "error",
     "traceback": [
      "\u001b[1;31m---------------------------------------------------------------------------\u001b[0m",
      "\u001b[1;31mImportError\u001b[0m                               Traceback (most recent call last)",
      "File \u001b[1;32m~\\PycharmProjects\\SignatureForgery\\venv\\lib\\site-packages\\tensorflow\\python\\pywrap_tensorflow.py:70\u001b[0m\n\u001b[0;32m     69\u001b[0m \u001b[38;5;28;01mtry\u001b[39;00m:\n\u001b[1;32m---> 70\u001b[0m   \u001b[38;5;28;01mfrom\u001b[39;00m \u001b[38;5;21;01mtensorflow\u001b[39;00m\u001b[38;5;21;01m.\u001b[39;00m\u001b[38;5;21;01mpython\u001b[39;00m\u001b[38;5;21;01m.\u001b[39;00m\u001b[38;5;21;01m_pywrap_tensorflow_internal\u001b[39;00m \u001b[38;5;28;01mimport\u001b[39;00m \u001b[38;5;241m*\u001b[39m\n\u001b[0;32m     71\u001b[0m \u001b[38;5;66;03m# This try catch logic is because there is no bazel equivalent for py_extension.\u001b[39;00m\n\u001b[0;32m     72\u001b[0m \u001b[38;5;66;03m# Externally in opensource we must enable exceptions to load the shared object\u001b[39;00m\n\u001b[0;32m     73\u001b[0m \u001b[38;5;66;03m# by exposing the PyInit symbols with pybind. This error will only be\u001b[39;00m\n\u001b[0;32m     74\u001b[0m \u001b[38;5;66;03m# caught internally or if someone changes the name of the target _pywrap_tensorflow_internal.\u001b[39;00m\n\u001b[0;32m     75\u001b[0m \n\u001b[0;32m     76\u001b[0m \u001b[38;5;66;03m# This logic is used in other internal projects using py_extension.\u001b[39;00m\n",
      "\u001b[1;31mImportError\u001b[0m: DLL load failed while importing _pywrap_tensorflow_internal: A dynamic link library (DLL) initialization routine failed.",
      "\nDuring handling of the above exception, another exception occurred:\n",
      "\u001b[1;31mImportError\u001b[0m                               Traceback (most recent call last)",
      "Cell \u001b[1;32mIn[1], line 7\u001b[0m\n\u001b[0;32m      5\u001b[0m \u001b[38;5;28;01mfrom\u001b[39;00m \u001b[38;5;21;01mskimage\u001b[39;00m\u001b[38;5;21;01m.\u001b[39;00m\u001b[38;5;21;01mio\u001b[39;00m \u001b[38;5;28;01mimport\u001b[39;00m imread\n\u001b[0;32m      6\u001b[0m \u001b[38;5;28;01mfrom\u001b[39;00m \u001b[38;5;21;01mscipy\u001b[39;00m \u001b[38;5;28;01mimport\u001b[39;00m spatial\n\u001b[1;32m----> 7\u001b[0m \u001b[38;5;28;01mfrom\u001b[39;00m \u001b[38;5;21;01mtensorflow\u001b[39;00m\u001b[38;5;21;01m.\u001b[39;00m\u001b[38;5;21;01mkeras\u001b[39;00m\u001b[38;5;21;01m.\u001b[39;00m\u001b[38;5;21;01mlayers\u001b[39;00m \u001b[38;5;28;01mimport\u001b[39;00m Dense, Flatten, Input, Lambda, MaxPooling2D, Conv2D, Dropout, BatchNormalization\n\u001b[0;32m      8\u001b[0m \u001b[38;5;28;01mfrom\u001b[39;00m \u001b[38;5;21;01mtensorflow\u001b[39;00m\u001b[38;5;21;01m.\u001b[39;00m\u001b[38;5;21;01mkeras\u001b[39;00m\u001b[38;5;21;01m.\u001b[39;00m\u001b[38;5;21;01mmodels\u001b[39;00m \u001b[38;5;28;01mimport\u001b[39;00m Model\n\u001b[0;32m      9\u001b[0m \u001b[38;5;28;01mfrom\u001b[39;00m \u001b[38;5;21;01mtensorflow\u001b[39;00m\u001b[38;5;21;01m.\u001b[39;00m\u001b[38;5;21;01mkeras\u001b[39;00m\u001b[38;5;21;01m.\u001b[39;00m\u001b[38;5;21;01mapplications\u001b[39;00m\u001b[38;5;21;01m.\u001b[39;00m\u001b[38;5;21;01mresnet50\u001b[39;00m \u001b[38;5;28;01mimport\u001b[39;00m ResNet50\n",
      "File \u001b[1;32m~\\PycharmProjects\\SignatureForgery\\venv\\lib\\site-packages\\tensorflow\\__init__.py:38\u001b[0m\n\u001b[0;32m     35\u001b[0m \u001b[38;5;28;01mimport\u001b[39;00m \u001b[38;5;21;01msys\u001b[39;00m \u001b[38;5;28;01mas\u001b[39;00m \u001b[38;5;21;01m_sys\u001b[39;00m\n\u001b[0;32m     37\u001b[0m \u001b[38;5;66;03m# Do not remove this line; See https://github.com/tensorflow/tensorflow/issues/42596\u001b[39;00m\n\u001b[1;32m---> 38\u001b[0m \u001b[38;5;28;01mfrom\u001b[39;00m \u001b[38;5;21;01mtensorflow\u001b[39;00m\u001b[38;5;21;01m.\u001b[39;00m\u001b[38;5;21;01mpython\u001b[39;00m \u001b[38;5;28;01mimport\u001b[39;00m pywrap_tensorflow \u001b[38;5;28;01mas\u001b[39;00m _pywrap_tensorflow  \u001b[38;5;66;03m# pylint: disable=unused-import\u001b[39;00m\n\u001b[0;32m     39\u001b[0m \u001b[38;5;28;01mfrom\u001b[39;00m \u001b[38;5;21;01mtensorflow\u001b[39;00m\u001b[38;5;21;01m.\u001b[39;00m\u001b[38;5;21;01mpython\u001b[39;00m\u001b[38;5;21;01m.\u001b[39;00m\u001b[38;5;21;01mtools\u001b[39;00m \u001b[38;5;28;01mimport\u001b[39;00m module_util \u001b[38;5;28;01mas\u001b[39;00m _module_util\n\u001b[0;32m     40\u001b[0m \u001b[38;5;28;01mfrom\u001b[39;00m \u001b[38;5;21;01mtensorflow\u001b[39;00m\u001b[38;5;21;01m.\u001b[39;00m\u001b[38;5;21;01mpython\u001b[39;00m\u001b[38;5;21;01m.\u001b[39;00m\u001b[38;5;21;01mutil\u001b[39;00m\u001b[38;5;21;01m.\u001b[39;00m\u001b[38;5;21;01mlazy_loader\u001b[39;00m \u001b[38;5;28;01mimport\u001b[39;00m KerasLazyLoader \u001b[38;5;28;01mas\u001b[39;00m _KerasLazyLoader\n",
      "File \u001b[1;32m~\\PycharmProjects\\SignatureForgery\\venv\\lib\\site-packages\\tensorflow\\python\\pywrap_tensorflow.py:85\u001b[0m\n\u001b[0;32m     83\u001b[0m     sys\u001b[38;5;241m.\u001b[39msetdlopenflags(_default_dlopen_flags)\n\u001b[0;32m     84\u001b[0m \u001b[38;5;28;01mexcept\u001b[39;00m \u001b[38;5;167;01mImportError\u001b[39;00m:\n\u001b[1;32m---> 85\u001b[0m   \u001b[38;5;28;01mraise\u001b[39;00m \u001b[38;5;167;01mImportError\u001b[39;00m(\n\u001b[0;32m     86\u001b[0m       \u001b[38;5;124mf\u001b[39m\u001b[38;5;124m'\u001b[39m\u001b[38;5;132;01m{\u001b[39;00mtraceback\u001b[38;5;241m.\u001b[39mformat_exc()\u001b[38;5;132;01m}\u001b[39;00m\u001b[38;5;124m'\u001b[39m\n\u001b[0;32m     87\u001b[0m       \u001b[38;5;124mf\u001b[39m\u001b[38;5;124m'\u001b[39m\u001b[38;5;130;01m\\n\u001b[39;00m\u001b[38;5;130;01m\\n\u001b[39;00m\u001b[38;5;124mFailed to load the native TensorFlow runtime.\u001b[39m\u001b[38;5;130;01m\\n\u001b[39;00m\u001b[38;5;124m'\u001b[39m\n\u001b[0;32m     88\u001b[0m       \u001b[38;5;124mf\u001b[39m\u001b[38;5;124m'\u001b[39m\u001b[38;5;124mSee https://www.tensorflow.org/install/errors \u001b[39m\u001b[38;5;124m'\u001b[39m\n\u001b[0;32m     89\u001b[0m       \u001b[38;5;124mf\u001b[39m\u001b[38;5;124m'\u001b[39m\u001b[38;5;124mfor some common causes and solutions.\u001b[39m\u001b[38;5;130;01m\\n\u001b[39;00m\u001b[38;5;124m'\u001b[39m\n\u001b[0;32m     90\u001b[0m       \u001b[38;5;124mf\u001b[39m\u001b[38;5;124m'\u001b[39m\u001b[38;5;124mIf you need help, create an issue \u001b[39m\u001b[38;5;124m'\u001b[39m\n\u001b[0;32m     91\u001b[0m       \u001b[38;5;124mf\u001b[39m\u001b[38;5;124m'\u001b[39m\u001b[38;5;124mat https://github.com/tensorflow/tensorflow/issues \u001b[39m\u001b[38;5;124m'\u001b[39m\n\u001b[0;32m     92\u001b[0m       \u001b[38;5;124mf\u001b[39m\u001b[38;5;124m'\u001b[39m\u001b[38;5;124mand include the entire stack trace above this error message.\u001b[39m\u001b[38;5;124m'\u001b[39m)\n\u001b[0;32m     94\u001b[0m \u001b[38;5;66;03m# pylint: enable=wildcard-import,g-import-not-at-top,unused-import,line-too-long\u001b[39;00m\n",
      "\u001b[1;31mImportError\u001b[0m: Traceback (most recent call last):\n  File \"C:\\Users\\HARI PRASAD\\PycharmProjects\\SignatureForgery\\venv\\lib\\site-packages\\tensorflow\\python\\pywrap_tensorflow.py\", line 70, in <module>\n    from tensorflow.python._pywrap_tensorflow_internal import *\nImportError: DLL load failed while importing _pywrap_tensorflow_internal: A dynamic link library (DLL) initialization routine failed.\n\n\nFailed to load the native TensorFlow runtime.\nSee https://www.tensorflow.org/install/errors for some common causes and solutions.\nIf you need help, create an issue at https://github.com/tensorflow/tensorflow/issues and include the entire stack trace above this error message."
     ]
    }
   ],
   "source": [
    "import pandas as pd\n",
    "import numpy as np\n",
    "import skimage.io as sk\n",
    "from skimage import img_as_ubyte\n",
    "from skimage.io import imread\n",
    "from scipy import spatial\n",
    "from tensorflow.keras.layers import Dense, Flatten, Input, Lambda, MaxPooling2D, Conv2D, Dropout, BatchNormalization\n",
    "from tensorflow.keras.models import Model\n",
    "from tensorflow.keras.applications.resnet50 import ResNet50\n",
    "from tensorflow.keras.preprocessing import image\n",
    "from tensorflow.keras.preprocessing.image import ImageDataGenerator, load_img\n",
    "from keras.models import Sequential\n",
    "from PIL import Image\n",
    "import cv2\n",
    "import matplotlib.pyplot as plt"
   ]
  },
  {
   "cell_type": "markdown",
   "metadata": {
    "id": "uXTRePA2tNKq"
   },
   "source": [
    "### Displaying the of Image of Forge and Real Signature"
   ]
  },
  {
   "cell_type": "code",
   "execution_count": null,
   "metadata": {
    "colab": {
     "base_uri": "https://localhost:8080/",
     "height": 322
    },
    "id": "J-foTbH9vkPx",
    "outputId": "28dc96a1-c94e-430e-accd-9d10cb51f884"
   },
   "outputs": [],
   "source": [
    "image1 = sk.imread(r\"C:\\Users\\HARI PRASAD\\PycharmProjects\\SignatureForgery\\venv\\SignatureVerification\\Dataset\\Train\\Real/00100001.png\")\n",
    "image2 = sk.imread(r\"C:\\Users\\HARI PRASAD\\PycharmProjects\\SignatureForgery\\venv\\SignatureVerification\\Dataset\\Train\\Real/00200002.png\")\n",
    "image3 = sk.imread(r\"C:\\Users\\HARI PRASAD\\PycharmProjects\\SignatureForgery\\venv\\SignatureVerification\\Dataset\\Train\\Real/00300003.png\")\n",
    "image4 = sk.imread(r\"C:\\Users\\HARI PRASAD\\PycharmProjects\\SignatureForgery\\venv\\SignatureVerification\\Dataset\\Train\\Real/00400004.png\")\n",
    "image5 = sk.imread(r\"C:\\Users\\HARI PRASAD\\PycharmProjects\\SignatureForgery\\venv\\SignatureVerification\\Dataset\\Train\\Real/00500005.png\")\n",
    "\n",
    "fig, ax = plt.subplots(1,5, figsize = (15,10))\n",
    "\n",
    "ax[0].imshow(image1)\n",
    "ax[0].set_title(\"Real_10\")\n",
    "ax[1].imshow(image2)\n",
    "ax[1].set_title(\"Real_10\")\n",
    "ax[2].imshow(image3)\n",
    "ax[2].set_title(\"Real_10\")\n",
    "ax[3].imshow(image4)\n",
    "ax[3].set_title(\"Real_10\")\n",
    "ax[4].imshow(image5)\n",
    "ax[4].set_title(\"Real_10\")\n",
    "\n",
    "image6 = sk.imread(r\"C:\\Users\\HARI PRASAD\\PycharmProjects\\SignatureForgery\\venv\\SignatureVerification\\Dataset\\Train\\Forge/02100001.png\")\n",
    "image7 = sk.imread(r\"C:\\Users\\HARI PRASAD\\PycharmProjects\\SignatureForgery\\venv\\SignatureVerification\\Dataset\\Train\\Forge/02100002.png\")\n",
    "image8 = sk.imread(r\"C:\\Users\\HARI PRASAD\\PycharmProjects\\SignatureForgery\\venv\\SignatureVerification\\Dataset\\Train\\Forge/02100003.png\")\n",
    "image9 = sk.imread(r\"C:\\Users\\HARI PRASAD\\PycharmProjects\\SignatureForgery\\venv\\SignatureVerification\\Dataset\\Train\\Forge/02100004.png\")\n",
    "image10 = sk.imread(r\"C:\\Users\\HARI PRASAD\\PycharmProjects\\SignatureForgery\\venv\\SignatureVerification\\Dataset\\Train\\Forge/02100005.png\")\n",
    "\n",
    "fig, ax1 = plt.subplots(1,5, figsize = (15,10))\n",
    "\n",
    "ax1[0].imshow(image6)\n",
    "ax1[0].set_title(\"Forge_10\")\n",
    "ax1[1].imshow(image7)\n",
    "ax1[1].set_title(\"Forge_10\")\n",
    "ax1[2].imshow(image8)\n",
    "ax1[2].set_title(\"Forge_10\")\n",
    "ax1[3].imshow(image9)\n",
    "ax1[3].set_title(\"Forge_10\")\n",
    "ax1[4].imshow(image10)\n",
    "ax1[4].set_title(\"Forge_10\")"
   ]
  },
  {
   "cell_type": "code",
   "execution_count": null,
   "metadata": {
    "id": "PtjU70p1eDd2"
   },
   "outputs": [],
   "source": [
    "train_path = r\"C:\\Users\\HARI PRASAD\\PycharmProjects\\SignatureForgery\\venv\\SignatureVerification\\Dataset\\Train\"\n",
    "test_path = r\"C:\\Users\\HARI PRASAD\\PycharmProjects\\SignatureForgery\\venv\\SignatureVerification\\Dataset\\Test\""
   ]
  },
  {
   "cell_type": "code",
   "execution_count": null,
   "metadata": {
    "id": "6PCqK8I34GLN"
   },
   "outputs": [],
   "source": [
    "Image_Width = 512\n",
    "Image_Height = 512\n",
    "Image_Size = (Image_Width, Image_Height)\n",
    "Image_Channel = 3\n",
    "batch_size=15"
   ]
  },
  {
   "cell_type": "code",
   "execution_count": null,
   "metadata": {
    "id": "jDQFljZM_Y60"
   },
   "outputs": [],
   "source": [
    "model = Sequential()\n",
    "\n",
    "## Conv layer 1\n",
    "model.add(Conv2D(32, (3,3), activation='relu', input_shape=(Image_Width,Image_Height, Image_Channel)))\n",
    "model.add(BatchNormalization())\n",
    "model.add(MaxPooling2D(pool_size=(2,2)))\n",
    "model.add(Dropout(0.25))\n",
    "\n",
    "## Conv layer 2\n",
    "model.add(Conv2D(64, (3,3), activation='relu'))\n",
    "model.add(BatchNormalization())\n",
    "model.add(MaxPooling2D(pool_size=(2,2)))\n",
    "model.add(Dropout(0.25))\n",
    "\n",
    "## Conv layer 3\n",
    "model.add(Conv2D(128, (3,3), activation='relu'))\n",
    "model.add(BatchNormalization())\n",
    "model.add(MaxPooling2D(pool_size=(2,2)))\n",
    "model.add(Dropout(0.25))\n",
    "\n",
    "## Conv layer 4\n",
    "model.add(Conv2D(256, (3,3), activation='relu'))\n",
    "model.add(BatchNormalization())\n",
    "model.add(MaxPooling2D(pool_size=(2,2)))\n",
    "model.add(Dropout(0.25))\n",
    "\n",
    "## Conv layer 5\n",
    "model.add(Conv2D(256, (3,3), activation='relu'))\n",
    "model.add(BatchNormalization())\n",
    "model.add(MaxPooling2D(pool_size=(2,2)))\n",
    "model.add(Dropout(0.25))\n",
    "\n",
    "## Conv layer 6\n",
    "model.add(Conv2D(512, (3,3), activation='relu'))\n",
    "model.add(BatchNormalization())\n",
    "model.add(MaxPooling2D(pool_size=(2,2)))\n",
    "model.add(Dropout(0.25))\n",
    "\n",
    "model.add(Flatten())\n",
    "model.add(Dense(256,activation='relu'))\n",
    "model.add(BatchNormalization())\n",
    "model.add(Dropout(0.5))\n",
    "\n",
    "model.add(Dense(2, activation='softmax'))\n",
    "\n",
    "model.compile(loss='categorical_crossentropy', optimizer='adam', metrics=['accuracy'])"
   ]
  },
  {
   "cell_type": "code",
   "execution_count": null,
   "metadata": {
    "colab": {
     "base_uri": "https://localhost:8080/",
     "height": 1000
    },
    "id": "dbUTyiUV_hWJ",
    "outputId": "f176bb67-d225-4ce7-e60c-222dbc986625"
   },
   "outputs": [],
   "source": [
    "model.summary()"
   ]
  },
  {
   "cell_type": "code",
   "execution_count": null,
   "metadata": {
    "id": "yhaE-GttM7Ym"
   },
   "outputs": [],
   "source": [
    "from keras.callbacks import EarlyStopping, ReduceLROnPlateau\n",
    "\n",
    "early_stop = EarlyStopping(patience=10)\n",
    "learning_rate_reduction = ReduceLROnPlateau(monitor='val_acc', patience=2, verbose=1, factor=0.5, min_lr=0.00001)\n",
    "callbacks = [early_stop, learning_rate_reduction]\n"
   ]
  },
  {
   "cell_type": "code",
   "execution_count": null,
   "metadata": {
    "id": "bOle34n0DJKI"
   },
   "outputs": [],
   "source": [
    "# Scaling all the images between 0 to 1 and applying Data Augmentation\n",
    "\n",
    "train_datagen = ImageDataGenerator(rotation_range=15,\n",
    "                                  rescale=1./255,\n",
    "                                  shear_range=0.1,\n",
    "                                  zoom_range=0.2,\n",
    "                                  horizontal_flip=True,\n",
    "                                  width_shift_range=0.1,\n",
    "                                  height_shift_range=0.1,)"
   ]
  },
  {
   "cell_type": "code",
   "execution_count": null,
   "metadata": {
    "colab": {
     "base_uri": "https://localhost:8080/",
     "height": 34
    },
    "id": "I1eJ8KPIETaG",
    "outputId": "2ee915ad-2058-4e27-e82a-b388cd7feb42"
   },
   "outputs": [],
   "source": [
    "train_generator = train_datagen.flow_from_directory(r'C:\\Users\\HARI PRASAD\\PycharmProjects\\SignatureForgery\\venv\\SignatureVerification\\Dataset\\Train',\n",
    "                                              target_size=Image_Size,\n",
    "                                              batch_size=32,\n",
    "                                              class_mode = 'categorical')\n"
   ]
  },
  {
   "cell_type": "code",
   "execution_count": null,
   "metadata": {
    "id": "4mktmpptFCii"
   },
   "outputs": [],
   "source": [
    "# Performing only scaling on the test dataset\n",
    "\n",
    "test_datagen = ImageDataGenerator(rescale=1./255)"
   ]
  },
  {
   "cell_type": "code",
   "execution_count": null,
   "metadata": {
    "colab": {
     "base_uri": "https://localhost:8080/",
     "height": 34
    },
    "id": "NIJnxGO_Fh1w",
    "outputId": "5b844fb8-ef8c-4273-bf69-3929bb4c5dca"
   },
   "outputs": [],
   "source": [
    "test_generator = test_datagen.flow_from_directory(r'C:\\Users\\HARI PRASAD\\PycharmProjects\\SignatureForgery\\venv\\SignatureVerification\\Dataset\\Test',\n",
    "                                                  target_size=Image_Size,\n",
    "                                                  batch_size = 32,\n",
    "                                                  class_mode='categorical')"
   ]
  },
  {
   "cell_type": "code",
   "execution_count": null,
   "metadata": {
    "colab": {
     "base_uri": "https://localhost:8080/",
     "height": 610
    },
    "id": "0cRuKnJ5GiAL",
    "outputId": "4a7cd093-c598-4a1f-a6e7-92b5ecd52051"
   },
   "outputs": [],
   "source": [
    "epochs = 10\n",
    "\n",
    "history = model.fit_generator(train_generator,\n",
    "                             epochs=epochs,\n",
    "                             validation_data=test_generator,\n",
    "                             validation_steps=len(test_generator),\n",
    "                             steps_per_epoch=len(train_generator),\n",
    "                             callbacks=callbacks)"
   ]
  },
  {
   "cell_type": "markdown",
   "metadata": {
    "id": "M3kYrmcmnSvE"
   },
   "source": [
    "## Plotting the Accuracy and Losses"
   ]
  },
  {
   "cell_type": "code",
   "execution_count": null,
   "metadata": {
    "colab": {
     "base_uri": "https://localhost:8080/",
     "height": 461
    },
    "id": "qy1Vrdn5ng4G",
    "outputId": "28715fc9-d5d3-4679-ee8c-03e474c6ca44"
   },
   "outputs": [],
   "source": [
    "plt.figure(figsize=(10,7))\n",
    "plt.plot(history.history['loss'], label='train loss')\n",
    "plt.plot(history.history['val_loss'], label='val loss')\n",
    "plt.plot(history.history['accuracy'], label='train_acc')\n",
    "plt.plot(history.history['val_accuracy'], label='val_acc')\n",
    "plt.title(\"Training Loss and Accuracy on COVID-19 Dataset\")\n",
    "plt.legend()\n",
    "plt.show()\n",
    "plt.savefig('lossval_loss')"
   ]
  },
  {
   "cell_type": "markdown",
   "metadata": {
    "id": "HQGgeatXn4FM"
   },
   "source": [
    "## Saving our model"
   ]
  },
  {
   "cell_type": "code",
   "execution_count": null,
   "metadata": {
    "id": "zTTLVDxZninA"
   },
   "outputs": [],
   "source": [
    "from tensorflow.keras.models import load_model\n",
    "\n",
    "model.save(r'C:\\Users\\HARI PRASAD\\PycharmProjects\\SignatureForgery\\venv\\SignatureVerification\\ModelPickle\\model.h5')"
   ]
  },
  {
   "cell_type": "markdown",
   "metadata": {
    "id": "Rur7WuLnoFfd"
   },
   "source": [
    "## Making our prediction with our model"
   ]
  },
  {
   "cell_type": "code",
   "execution_count": null,
   "metadata": {
    "colab": {
     "base_uri": "https://localhost:8080/",
     "height": 1000
    },
    "id": "-VMorqAcoAyq",
    "outputId": "4d05e15a-6bd1-4d8b-e0e8-1ad5369be66f"
   },
   "outputs": [],
   "source": [
    "pred = model.predict(test_generator)\n",
    "pred"
   ]
  },
  {
   "cell_type": "code",
   "execution_count": null,
   "metadata": {
    "colab": {
     "base_uri": "https://localhost:8080/",
     "height": 347
    },
    "id": "mfOEHuploPxo",
    "outputId": "394d8a56-09f2-46dc-a740-2dd0bfe12407"
   },
   "outputs": [],
   "source": [
    "import numpy as np\n",
    "\n",
    "pred = np.argmax(pred, axis=1)\n",
    "pred"
   ]
  },
  {
   "cell_type": "markdown",
   "metadata": {
    "id": "L0GasuxwoXdK"
   },
   "source": [
    "## Loading our model"
   ]
  },
  {
   "cell_type": "code",
   "execution_count": null,
   "metadata": {
    "id": "iD150L88oVTK"
   },
   "outputs": [],
   "source": [
    "model = load_model(r'C:\\Users\\HARI PRASAD\\PycharmProjects\\SignatureForgery\\venv\\SignatureVerification\\ModelPickle\\model.h5')"
   ]
  },
  {
   "cell_type": "code",
   "execution_count": null,
   "metadata": {
    "id": "CPAxZL63ogwt"
   },
   "outputs": [],
   "source": [
    "from tensorflow.keras.preprocessing import image\n",
    "\n",
    "img = image.load_img(r'C:\\Users\\HARI PRASAD\\PycharmProjects\\SignatureForgery\\venv\\SignatureVerification\\Dataset\\Test\\Forge/02103001.png', target_size=(512,512))"
   ]
  },
  {
   "cell_type": "code",
   "execution_count": null,
   "metadata": {
    "colab": {
     "base_uri": "https://localhost:8080/",
     "height": 868
    },
    "id": "yXMXctH_oobT",
    "outputId": "a7306ea6-f4f6-40ff-d44d-452586e607de"
   },
   "outputs": [],
   "source": [
    "x = image.img_to_array(img)\n",
    "x"
   ]
  },
  {
   "cell_type": "code",
   "execution_count": null,
   "metadata": {
    "colab": {
     "base_uri": "https://localhost:8080/",
     "height": 34
    },
    "id": "mcvDRPPwo1gm",
    "outputId": "ab1867b4-bd95-4b8a-f5dd-f3c16064cb03"
   },
   "outputs": [],
   "source": [
    "x.shape"
   ]
  },
  {
   "cell_type": "code",
   "execution_count": null,
   "metadata": {
    "colab": {
     "base_uri": "https://localhost:8080/",
     "height": 34
    },
    "id": "gZjqGnP7o4xh",
    "outputId": "1028fd93-c949-48f6-a7c2-3a73b5f84bc9"
   },
   "outputs": [],
   "source": [
    "x = x/255\n",
    "\n",
    "from tensorflow.keras.applications.resnet50 import preprocess_input\n",
    "\n",
    "x=np.expand_dims(x,axis=0)\n",
    "img_data=preprocess_input(x)\n",
    "img_data.shape"
   ]
  },
  {
   "cell_type": "code",
   "execution_count": null,
   "metadata": {
    "colab": {
     "base_uri": "https://localhost:8080/",
     "height": 34
    },
    "id": "RQM8-Lkso_vf",
    "outputId": "f7e80f7d-f20d-4a50-85ea-4ae06b0ec247"
   },
   "outputs": [],
   "source": [
    "model.predict(img_data)"
   ]
  },
  {
   "cell_type": "code",
   "execution_count": null,
   "metadata": {
    "id": "-cRRhXKXpDBd"
   },
   "outputs": [],
   "source": [
    "a=np.argmax(model.predict(img_data), axis=1)"
   ]
  },
  {
   "cell_type": "code",
   "execution_count": null,
   "metadata": {
    "colab": {
     "base_uri": "https://localhost:8080/",
     "height": 34
    },
    "id": "pRhxKV4PpGYa",
    "outputId": "5a31d07b-8263-4927-b52f-51ac1b3248a9"
   },
   "outputs": [],
   "source": [
    "if(a==1):\n",
    "    print(\"The signature is not fraud\")\n",
    "else:\n",
    "    print(\"The signature is fraud\")"
   ]
  }
 ],
 "metadata": {
  "accelerator": "GPU",
  "colab": {
   "authorship_tag": "ABX9TyMS9vJrbxvh6AKFzzIvWrlq",
   "collapsed_sections": [],
   "include_colab_link": true,
   "mount_file_id": "1rV1Cn9-hdRfAy8sRoLM6wsVoZFVaLcLO",
   "name": "Real or Forge Signature Detection using Deep Learning.ipynb",
   "provenance": []
  },
  "kernelspec": {
   "display_name": "Python 3 (ipykernel)",
   "language": "python",
   "name": "python3"
  },
  "language_info": {
   "codemirror_mode": {
    "name": "ipython",
    "version": 3
   },
   "file_extension": ".py",
   "mimetype": "text/x-python",
   "name": "python",
   "nbconvert_exporter": "python",
   "pygments_lexer": "ipython3",
   "version": "3.10.6"
  }
 },
 "nbformat": 4,
 "nbformat_minor": 4
}
